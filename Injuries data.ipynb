{
 "cells": [
  {
   "cell_type": "code",
   "execution_count": 103,
   "metadata": {
    "collapsed": false
   },
   "outputs": [],
   "source": [
    "import pandas as pd\n",
    "import numpy as np\n",
    "import sklearn\n",
    "from sklearn.tree import DecisionTreeRegressor\n",
    "from sklearn.tree import export_graphviz\n",
    "from sklearn.cross_validation import train_test_split"
   ]
  },
  {
   "cell_type": "code",
   "execution_count": 102,
   "metadata": {
    "collapsed": false
   },
   "outputs": [
    {
     "name": "stdout",
     "output_type": "stream",
     "text": [
      "C:\\Users\\Germanas\\AppData\\Local\\conda\\conda\\envs\\DAND\\lib\\site-packages\\sklearn\\__init__.pyc\n"
     ]
    }
   ],
   "source": [
    "print(sklearn.__file__)"
   ]
  },
  {
   "cell_type": "code",
   "execution_count": 24,
   "metadata": {
    "collapsed": false
   },
   "outputs": [],
   "source": [
    "df = pd.read_csv('wellBeingReport.csv')"
   ]
  },
  {
   "cell_type": "code",
   "execution_count": 100,
   "metadata": {
    "collapsed": false,
    "scrolled": false
   },
   "outputs": [
    {
     "data": {
      "text/html": [
       "<div>\n",
       "<table border=\"1\" class=\"dataframe\">\n",
       "  <thead>\n",
       "    <tr style=\"text-align: right;\">\n",
       "      <th></th>\n",
       "      <th>Date</th>\n",
       "      <th>User ID</th>\n",
       "      <th>The number that best describes the way you currently feel about your Appetite</th>\n",
       "      <th>The number that best describes the way you currently feel about your Stress (0 = Stressed)</th>\n",
       "      <th>The number that best describes the way you currently feel about your Energy Levels</th>\n",
       "      <th>The number that best describes the way you currently feel about your Physical Readiness</th>\n",
       "      <th>The number that best describes the way you currently feel about your Wellness</th>\n",
       "      <th>Please give a Rating of Perceived Exertion (RPE) for the Strength / Power Training Session</th>\n",
       "      <th>Please give a Rating of Perceived Exertion (RPE) for the Strength / Power 2 Training Session</th>\n",
       "      <th>Please give a Rating of Perceived Exertion (RPE) for the Team Conditioning Session</th>\n",
       "      <th>...</th>\n",
       "      <th>The number that best describes the way you currently feel about your Upper Body Soreness</th>\n",
       "      <th>The number that best describes the way you currently feel about your Lower Body Soreness</th>\n",
       "      <th>Please give a Rating of Perceived Exertion (RPE) for the Mixed Conditioning Session</th>\n",
       "      <th>Please give a Rating of Perceived Exertion (RPE) for Repeated Effort</th>\n",
       "      <th>Please give a Rating of Perceived Exertion (RPE) for the Boxing/Wrestling Training Session</th>\n",
       "      <th>Please give a Rating of Perceived Exertion (RPE) your Running Mechanics (Field) Training Session</th>\n",
       "      <th>Please give a Rating of Perceived Exertion (RPE) your Running Mechanics (Indoor) Training Session</th>\n",
       "      <th>Please give a Rating of Perceived Exertion (RPE) your Pool Session (Non-Recovery) Training Session</th>\n",
       "      <th>Please give a Rating of Perceived Exertion (RPE) your Rehab Specific Training Session</th>\n",
       "      <th>Has Injury</th>\n",
       "    </tr>\n",
       "  </thead>\n",
       "  <tbody>\n",
       "    <tr>\n",
       "      <th>20145</th>\n",
       "      <td>2014-12-08</td>\n",
       "      <td>1</td>\n",
       "      <td>10</td>\n",
       "      <td>10</td>\n",
       "      <td>10</td>\n",
       "      <td>10</td>\n",
       "      <td>10</td>\n",
       "      <td>4</td>\n",
       "      <td>0</td>\n",
       "      <td>5</td>\n",
       "      <td>...</td>\n",
       "      <td>0</td>\n",
       "      <td>0</td>\n",
       "      <td>0</td>\n",
       "      <td>0</td>\n",
       "      <td>0</td>\n",
       "      <td>0</td>\n",
       "      <td>0</td>\n",
       "      <td>0</td>\n",
       "      <td>0</td>\n",
       "      <td>1</td>\n",
       "    </tr>\n",
       "    <tr>\n",
       "      <th>16409</th>\n",
       "      <td>2015-07-14</td>\n",
       "      <td>1</td>\n",
       "      <td>0</td>\n",
       "      <td>1</td>\n",
       "      <td>0</td>\n",
       "      <td>1</td>\n",
       "      <td>0</td>\n",
       "      <td>7</td>\n",
       "      <td>0</td>\n",
       "      <td>0</td>\n",
       "      <td>...</td>\n",
       "      <td>0</td>\n",
       "      <td>1</td>\n",
       "      <td>0</td>\n",
       "      <td>7</td>\n",
       "      <td>0</td>\n",
       "      <td>0</td>\n",
       "      <td>0</td>\n",
       "      <td>0</td>\n",
       "      <td>0</td>\n",
       "      <td>1</td>\n",
       "    </tr>\n",
       "  </tbody>\n",
       "</table>\n",
       "<p>2 rows × 27 columns</p>\n",
       "</div>"
      ],
      "text/plain": [
       "             Date  User ID  \\\n",
       "20145  2014-12-08        1   \n",
       "16409  2015-07-14        1   \n",
       "\n",
       "       The number that best describes the way you currently feel about your Appetite  \\\n",
       "20145                                                 10                               \n",
       "16409                                                  0                               \n",
       "\n",
       "       The number that best describes the way you currently feel about your Stress (0 = Stressed)  \\\n",
       "20145                                                 10                                            \n",
       "16409                                                  1                                            \n",
       "\n",
       "       The number that best describes the way you currently feel about your Energy Levels  \\\n",
       "20145                                                 10                                    \n",
       "16409                                                  0                                    \n",
       "\n",
       "       The number that best describes the way you currently feel about your Physical Readiness  \\\n",
       "20145                                                 10                                         \n",
       "16409                                                  1                                         \n",
       "\n",
       "       The number that best describes the way you currently feel about your Wellness  \\\n",
       "20145                                                 10                               \n",
       "16409                                                  0                               \n",
       "\n",
       "       Please give a Rating of Perceived Exertion (RPE) for the Strength / Power Training Session  \\\n",
       "20145                                                  4                                            \n",
       "16409                                                  7                                            \n",
       "\n",
       "       Please give a Rating of Perceived Exertion (RPE) for the Strength / Power 2 Training Session  \\\n",
       "20145                                                  0                                              \n",
       "16409                                                  0                                              \n",
       "\n",
       "       Please give a Rating of Perceived Exertion (RPE) for the Team Conditioning Session  \\\n",
       "20145                                                  5                                    \n",
       "16409                                                  0                                    \n",
       "\n",
       "          ...      \\\n",
       "20145     ...       \n",
       "16409     ...       \n",
       "\n",
       "       The number that best describes the way you currently feel about your Upper Body Soreness  \\\n",
       "20145                                                  0                                          \n",
       "16409                                                  0                                          \n",
       "\n",
       "       The number that best describes the way you currently feel about your Lower Body Soreness  \\\n",
       "20145                                                  0                                          \n",
       "16409                                                  1                                          \n",
       "\n",
       "      Please give a Rating of Perceived Exertion (RPE) for the Mixed Conditioning Session  \\\n",
       "20145                                                  0                                    \n",
       "16409                                                  0                                    \n",
       "\n",
       "       Please give a Rating of Perceived Exertion (RPE) for Repeated Effort  \\\n",
       "20145                                                  0                      \n",
       "16409                                                  7                      \n",
       "\n",
       "       Please give a Rating of Perceived Exertion (RPE) for the Boxing/Wrestling Training Session  \\\n",
       "20145                                                  0                                            \n",
       "16409                                                  0                                            \n",
       "\n",
       "       Please give a Rating of Perceived Exertion (RPE) your Running Mechanics (Field) Training Session  \\\n",
       "20145                                                  0                                                  \n",
       "16409                                                  0                                                  \n",
       "\n",
       "       Please give a Rating of Perceived Exertion (RPE) your Running Mechanics (Indoor) Training Session  \\\n",
       "20145                                                  0                                                   \n",
       "16409                                                  0                                                   \n",
       "\n",
       "       Please give a Rating of Perceived Exertion (RPE) your Pool Session (Non-Recovery) Training Session  \\\n",
       "20145                                                  0                                                    \n",
       "16409                                                  0                                                    \n",
       "\n",
       "       Please give a Rating of Perceived Exertion (RPE) your Rehab Specific Training Session  \\\n",
       "20145                                                  0                                       \n",
       "16409                                                  0                                       \n",
       "\n",
       "       Has Injury  \n",
       "20145           1  \n",
       "16409           1  \n",
       "\n",
       "[2 rows x 27 columns]"
      ]
     },
     "execution_count": 100,
     "metadata": {},
     "output_type": "execute_result"
    }
   ],
   "source": [
    "df.sort_values(by='User ID').head(2)"
   ]
  },
  {
   "cell_type": "markdown",
   "metadata": {},
   "source": [
    "Rename columns:\n"
   ]
  },
  {
   "cell_type": "code",
   "execution_count": 96,
   "metadata": {
    "collapsed": false
   },
   "outputs": [
    {
     "data": {
      "text/html": [
       "<div>\n",
       "<table border=\"1\" class=\"dataframe\">\n",
       "  <thead>\n",
       "    <tr style=\"text-align: right;\">\n",
       "      <th></th>\n",
       "      <th>Date</th>\n",
       "      <th>User ID</th>\n",
       "      <th>The number that best describes the way you currently feel about your Appetite</th>\n",
       "      <th>The number that best describes the way you currently feel about your Stress (0 = Stressed)</th>\n",
       "      <th>The number that best describes the way you currently feel about your Energy Levels</th>\n",
       "      <th>The number that best describes the way you currently feel about your Physical Readiness</th>\n",
       "      <th>The number that best describes the way you currently feel about your Wellness</th>\n",
       "      <th>Please give a Rating of Perceived Exertion (RPE) for the Strength / Power Training Session</th>\n",
       "      <th>Please give a Rating of Perceived Exertion (RPE) for the Strength / Power 2 Training Session</th>\n",
       "      <th>Please give a Rating of Perceived Exertion (RPE) for the Team Conditioning Session</th>\n",
       "      <th>Please give a Rating of Perceived Exertion (RPE) for the IAD / Skills Session</th>\n",
       "      <th>Has Injury</th>\n",
       "    </tr>\n",
       "  </thead>\n",
       "  <tbody>\n",
       "    <tr>\n",
       "      <th>0</th>\n",
       "      <td>2017-05-04</td>\n",
       "      <td>185</td>\n",
       "      <td>8</td>\n",
       "      <td>8</td>\n",
       "      <td>8</td>\n",
       "      <td>8</td>\n",
       "      <td>8</td>\n",
       "      <td>0</td>\n",
       "      <td>0</td>\n",
       "      <td>0</td>\n",
       "      <td>0</td>\n",
       "      <td>0</td>\n",
       "    </tr>\n",
       "    <tr>\n",
       "      <th>1</th>\n",
       "      <td>2017-05-04</td>\n",
       "      <td>110</td>\n",
       "      <td>8</td>\n",
       "      <td>8</td>\n",
       "      <td>7</td>\n",
       "      <td>8</td>\n",
       "      <td>8</td>\n",
       "      <td>0</td>\n",
       "      <td>0</td>\n",
       "      <td>0</td>\n",
       "      <td>0</td>\n",
       "      <td>0</td>\n",
       "    </tr>\n",
       "    <tr>\n",
       "      <th>2</th>\n",
       "      <td>2017-05-04</td>\n",
       "      <td>223</td>\n",
       "      <td>10</td>\n",
       "      <td>10</td>\n",
       "      <td>10</td>\n",
       "      <td>10</td>\n",
       "      <td>10</td>\n",
       "      <td>0</td>\n",
       "      <td>0</td>\n",
       "      <td>0</td>\n",
       "      <td>0</td>\n",
       "      <td>0</td>\n",
       "    </tr>\n",
       "    <tr>\n",
       "      <th>3</th>\n",
       "      <td>2017-05-04</td>\n",
       "      <td>100</td>\n",
       "      <td>10</td>\n",
       "      <td>7</td>\n",
       "      <td>10</td>\n",
       "      <td>10</td>\n",
       "      <td>10</td>\n",
       "      <td>0</td>\n",
       "      <td>0</td>\n",
       "      <td>0</td>\n",
       "      <td>0</td>\n",
       "      <td>0</td>\n",
       "    </tr>\n",
       "    <tr>\n",
       "      <th>4</th>\n",
       "      <td>2017-05-04</td>\n",
       "      <td>247</td>\n",
       "      <td>7</td>\n",
       "      <td>7</td>\n",
       "      <td>7</td>\n",
       "      <td>6</td>\n",
       "      <td>7</td>\n",
       "      <td>0</td>\n",
       "      <td>0</td>\n",
       "      <td>0</td>\n",
       "      <td>0</td>\n",
       "      <td>0</td>\n",
       "    </tr>\n",
       "  </tbody>\n",
       "</table>\n",
       "</div>"
      ],
      "text/plain": [
       "         Date  User ID  \\\n",
       "0  2017-05-04      185   \n",
       "1  2017-05-04      110   \n",
       "2  2017-05-04      223   \n",
       "3  2017-05-04      100   \n",
       "4  2017-05-04      247   \n",
       "\n",
       "   The number that best describes the way you currently feel about your Appetite  \\\n",
       "0                                                  8                               \n",
       "1                                                  8                               \n",
       "2                                                 10                               \n",
       "3                                                 10                               \n",
       "4                                                  7                               \n",
       "\n",
       "   The number that best describes the way you currently feel about your Stress (0 = Stressed)  \\\n",
       "0                                                  8                                            \n",
       "1                                                  8                                            \n",
       "2                                                 10                                            \n",
       "3                                                  7                                            \n",
       "4                                                  7                                            \n",
       "\n",
       "   The number that best describes the way you currently feel about your Energy Levels  \\\n",
       "0                                                  8                                    \n",
       "1                                                  7                                    \n",
       "2                                                 10                                    \n",
       "3                                                 10                                    \n",
       "4                                                  7                                    \n",
       "\n",
       "   The number that best describes the way you currently feel about your Physical Readiness  \\\n",
       "0                                                  8                                         \n",
       "1                                                  8                                         \n",
       "2                                                 10                                         \n",
       "3                                                 10                                         \n",
       "4                                                  6                                         \n",
       "\n",
       "   The number that best describes the way you currently feel about your Wellness  \\\n",
       "0                                                  8                               \n",
       "1                                                  8                               \n",
       "2                                                 10                               \n",
       "3                                                 10                               \n",
       "4                                                  7                               \n",
       "\n",
       "   Please give a Rating of Perceived Exertion (RPE) for the Strength / Power Training Session  \\\n",
       "0                                                  0                                            \n",
       "1                                                  0                                            \n",
       "2                                                  0                                            \n",
       "3                                                  0                                            \n",
       "4                                                  0                                            \n",
       "\n",
       "   Please give a Rating of Perceived Exertion (RPE) for the Strength / Power 2 Training Session  \\\n",
       "0                                                  0                                              \n",
       "1                                                  0                                              \n",
       "2                                                  0                                              \n",
       "3                                                  0                                              \n",
       "4                                                  0                                              \n",
       "\n",
       "   Please give a Rating of Perceived Exertion (RPE) for the Team Conditioning Session  \\\n",
       "0                                                  0                                    \n",
       "1                                                  0                                    \n",
       "2                                                  0                                    \n",
       "3                                                  0                                    \n",
       "4                                                  0                                    \n",
       "\n",
       "   Please give a Rating of Perceived Exertion (RPE) for the IAD / Skills Session  \\\n",
       "0                                                  0                               \n",
       "1                                                  0                               \n",
       "2                                                  0                               \n",
       "3                                                  0                               \n",
       "4                                                  0                               \n",
       "\n",
       "   Has Injury  \n",
       "0           0  \n",
       "1           0  \n",
       "2           0  \n",
       "3           0  \n",
       "4           0  "
      ]
     },
     "execution_count": 96,
     "metadata": {},
     "output_type": "execute_result"
    }
   ],
   "source": [
    "\n",
    "new_df = df[list(df.columns[0:11]) + list(df.columns[26:])]\n",
    "new_df.head(5)"
   ]
  },
  {
   "cell_type": "code",
   "execution_count": 61,
   "metadata": {
    "collapsed": false
   },
   "outputs": [],
   "source": [
    "\n",
    "new_df.columns = ['Date', 'User ID', 'Appetite','Stress','Energy','Physical','Wellness', 'Strength 1', 'Strength 1','Conditioning Session', 'IAD / Skills ', 'Has Injury']"
   ]
  },
  {
   "cell_type": "code",
   "execution_count": 63,
   "metadata": {
    "collapsed": false
   },
   "outputs": [
    {
     "data": {
      "text/html": [
       "<div>\n",
       "<table border=\"1\" class=\"dataframe\">\n",
       "  <thead>\n",
       "    <tr style=\"text-align: right;\">\n",
       "      <th></th>\n",
       "      <th>Date</th>\n",
       "      <th>User ID</th>\n",
       "      <th>Appetite</th>\n",
       "      <th>Stress</th>\n",
       "      <th>Energy</th>\n",
       "      <th>Physical</th>\n",
       "      <th>Wellness</th>\n",
       "      <th>Strength 1</th>\n",
       "      <th>Strength 1</th>\n",
       "      <th>Conditioning Session</th>\n",
       "      <th>IAD / Skills</th>\n",
       "      <th>Has Injury</th>\n",
       "    </tr>\n",
       "  </thead>\n",
       "  <tbody>\n",
       "    <tr>\n",
       "      <th>0</th>\n",
       "      <td>2017-05-04</td>\n",
       "      <td>185</td>\n",
       "      <td>8</td>\n",
       "      <td>8</td>\n",
       "      <td>8</td>\n",
       "      <td>8</td>\n",
       "      <td>8</td>\n",
       "      <td>0</td>\n",
       "      <td>0</td>\n",
       "      <td>0</td>\n",
       "      <td>0</td>\n",
       "      <td>0</td>\n",
       "    </tr>\n",
       "    <tr>\n",
       "      <th>1</th>\n",
       "      <td>2017-05-04</td>\n",
       "      <td>110</td>\n",
       "      <td>8</td>\n",
       "      <td>8</td>\n",
       "      <td>7</td>\n",
       "      <td>8</td>\n",
       "      <td>8</td>\n",
       "      <td>0</td>\n",
       "      <td>0</td>\n",
       "      <td>0</td>\n",
       "      <td>0</td>\n",
       "      <td>0</td>\n",
       "    </tr>\n",
       "    <tr>\n",
       "      <th>2</th>\n",
       "      <td>2017-05-04</td>\n",
       "      <td>223</td>\n",
       "      <td>10</td>\n",
       "      <td>10</td>\n",
       "      <td>10</td>\n",
       "      <td>10</td>\n",
       "      <td>10</td>\n",
       "      <td>0</td>\n",
       "      <td>0</td>\n",
       "      <td>0</td>\n",
       "      <td>0</td>\n",
       "      <td>0</td>\n",
       "    </tr>\n",
       "    <tr>\n",
       "      <th>3</th>\n",
       "      <td>2017-05-04</td>\n",
       "      <td>100</td>\n",
       "      <td>10</td>\n",
       "      <td>7</td>\n",
       "      <td>10</td>\n",
       "      <td>10</td>\n",
       "      <td>10</td>\n",
       "      <td>0</td>\n",
       "      <td>0</td>\n",
       "      <td>0</td>\n",
       "      <td>0</td>\n",
       "      <td>0</td>\n",
       "    </tr>\n",
       "    <tr>\n",
       "      <th>4</th>\n",
       "      <td>2017-05-04</td>\n",
       "      <td>247</td>\n",
       "      <td>7</td>\n",
       "      <td>7</td>\n",
       "      <td>7</td>\n",
       "      <td>6</td>\n",
       "      <td>7</td>\n",
       "      <td>0</td>\n",
       "      <td>0</td>\n",
       "      <td>0</td>\n",
       "      <td>0</td>\n",
       "      <td>0</td>\n",
       "    </tr>\n",
       "  </tbody>\n",
       "</table>\n",
       "</div>"
      ],
      "text/plain": [
       "         Date  User ID  Appetite  Stress  Energy  Physical  Wellness  \\\n",
       "0  2017-05-04      185         8       8       8         8         8   \n",
       "1  2017-05-04      110         8       8       7         8         8   \n",
       "2  2017-05-04      223        10      10      10        10        10   \n",
       "3  2017-05-04      100        10       7      10        10        10   \n",
       "4  2017-05-04      247         7       7       7         6         7   \n",
       "\n",
       "   Strength 1  Strength 1  Conditioning Session  IAD / Skills   Has Injury  \n",
       "0           0           0                     0              0           0  \n",
       "1           0           0                     0              0           0  \n",
       "2           0           0                     0              0           0  \n",
       "3           0           0                     0              0           0  \n",
       "4           0           0                     0              0           0  "
      ]
     },
     "execution_count": 63,
     "metadata": {},
     "output_type": "execute_result"
    }
   ],
   "source": [
    "new_df.head(5)"
   ]
  },
  {
   "cell_type": "markdown",
   "metadata": {},
   "source": [
    "Split to features and labels"
   ]
  },
  {
   "cell_type": "code",
   "execution_count": 119,
   "metadata": {
    "collapsed": false
   },
   "outputs": [],
   "source": [
    "x = new_df[list(new_df.columns[2:11])]\n",
    "y = new_df[list(new_df.columns[11:])]"
   ]
  },
  {
   "cell_type": "code",
   "execution_count": 144,
   "metadata": {
    "collapsed": false
   },
   "outputs": [],
   "source": [
    "labels = y.as_matrix()\n",
    "features = x.as_matrix()\n"
   ]
  },
  {
   "cell_type": "code",
   "execution_count": 145,
   "metadata": {
    "collapsed": false
   },
   "outputs": [],
   "source": [
    "#Separate to train and test split\\\n",
    "x_train, x_test, y_train, y_test = train_test_split(features, labels, stratify = labels, random_state=42)"
   ]
  },
  {
   "cell_type": "code",
   "execution_count": 146,
   "metadata": {
    "collapsed": false
   },
   "outputs": [],
   "source": [
    "#Build decission tree model\n",
    "tree = DecisionTreeRegressor(max_depth=4, random_state=0).fit(x_train, y_train)"
   ]
  },
  {
   "cell_type": "code",
   "execution_count": 147,
   "metadata": {
    "collapsed": false
   },
   "outputs": [
    {
     "name": "stdout",
     "output_type": "stream",
     "text": [
      "0.10697823236\n"
     ]
    }
   ],
   "source": [
    "print (tree.score(x_test, y_test))"
   ]
  },
  {
   "cell_type": "code",
   "execution_count": 148,
   "metadata": {
    "collapsed": false
   },
   "outputs": [
    {
     "name": "stdout",
     "output_type": "stream",
     "text": [
      "[ 0.11595314  0.          0.08984837  0.36757292  0.01919049  0.          0.\n",
      "  0.11145742  0.29597766]\n"
     ]
    }
   ],
   "source": [
    "print tree.feature_importances_"
   ]
  }
 ],
 "metadata": {
  "anaconda-cloud": {},
  "kernelspec": {
   "display_name": "Python [conda env:DAND]",
   "language": "python",
   "name": "conda-env-DAND-py"
  },
  "language_info": {
   "codemirror_mode": {
    "name": "ipython",
    "version": 2
   },
   "file_extension": ".py",
   "mimetype": "text/x-python",
   "name": "python",
   "nbconvert_exporter": "python",
   "pygments_lexer": "ipython2",
   "version": "2.7.12"
  }
 },
 "nbformat": 4,
 "nbformat_minor": 2
}
